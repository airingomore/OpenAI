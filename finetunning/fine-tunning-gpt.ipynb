{
 "cells": [
  {
   "cell_type": "code",
   "execution_count": 1,
   "id": "1f3b3060",
   "metadata": {},
   "outputs": [
    {
     "name": "stdout",
     "output_type": "stream",
     "text": [
      "0.27.9\n"
     ]
    }
   ],
   "source": [
    "import openai\n",
    "print(openai.__version__)"
   ]
  },
  {
   "cell_type": "code",
   "execution_count": 2,
   "id": "0c8d4ce1",
   "metadata": {},
   "outputs": [],
   "source": [
    "#pip install openai==0.27.9\n"
   ]
  },
  {
   "cell_type": "code",
   "execution_count": 3,
   "id": "6ad8f4ea",
   "metadata": {},
   "outputs": [],
   "source": [
    "from dotenv import dotenv_values\n",
    "config = dotenv_values(\".env\")\n",
    "openai.api_key = config['OPEN_API_KEY']\n",
    "assert openai.api_key.startswith('sk-'), 'Error loading the API key. The API key should start with \"sk-\"\"'"
   ]
  },
  {
   "cell_type": "code",
   "execution_count": 4,
   "id": "12cb58a5",
   "metadata": {},
   "outputs": [
    {
     "data": {
      "text/plain": [
       "<File file id=file-9HZZAgjeb6BRXEN7PyUVSqWG at 0x105662f20> JSON: {\n",
       "  \"object\": \"file\",\n",
       "  \"id\": \"file-9HZZAgjeb6BRXEN7PyUVSqWG\",\n",
       "  \"purpose\": \"fine-tune\",\n",
       "  \"filename\": \"file\",\n",
       "  \"bytes\": 5936,\n",
       "  \"created_at\": 1696772960,\n",
       "  \"status\": \"uploaded\",\n",
       "  \"status_details\": null\n",
       "}"
      ]
     },
     "execution_count": 4,
     "metadata": {},
     "output_type": "execute_result"
    }
   ],
   "source": [
    "train = openai.File.create(\n",
    "    file=open('train.jsonl','rb'),\n",
    "    purpose='fine-tune'\n",
    ")\n",
    "train"
   ]
  },
  {
   "cell_type": "code",
   "execution_count": 5,
   "id": "e044f127",
   "metadata": {},
   "outputs": [
    {
     "data": {
      "text/plain": [
       "<File file id=file-gWz9TPnlN0fMN1WG89GKOxHw at 0x103c622f0> JSON: {\n",
       "  \"object\": \"file\",\n",
       "  \"id\": \"file-gWz9TPnlN0fMN1WG89GKOxHw\",\n",
       "  \"purpose\": \"fine-tune\",\n",
       "  \"filename\": \"file\",\n",
       "  \"bytes\": 5730,\n",
       "  \"created_at\": 1696772963,\n",
       "  \"status\": \"uploaded\",\n",
       "  \"status_details\": null\n",
       "}"
      ]
     },
     "execution_count": 5,
     "metadata": {},
     "output_type": "execute_result"
    }
   ],
   "source": [
    "val = openai.File.create(\n",
    "    file=open('eval.jsonl','rb'),\n",
    "    purpose='fine-tune'\n",
    ")\n",
    "val"
   ]
  },
  {
   "cell_type": "code",
   "execution_count": 8,
   "id": "74d2c470",
   "metadata": {},
   "outputs": [
    {
     "name": "stdout",
     "output_type": "stream",
     "text": [
      "file-9HZZAgjeb6BRXEN7PyUVSqWG file-gWz9TPnlN0fMN1WG89GKOxHw\n"
     ]
    }
   ],
   "source": [
    "print(train['id'],val['id'])\n"
   ]
  },
  {
   "cell_type": "code",
   "execution_count": 7,
   "id": "71ba0dca",
   "metadata": {},
   "outputs": [
    {
     "data": {
      "text/plain": [
       "<FineTuningJob fine_tuning.job id=ftjob-RAHMrZPxS7THV4A5OwOYgAVw at 0x105663010> JSON: {\n",
       "  \"object\": \"fine_tuning.job\",\n",
       "  \"id\": \"ftjob-RAHMrZPxS7THV4A5OwOYgAVw\",\n",
       "  \"model\": \"gpt-3.5-turbo-0613\",\n",
       "  \"created_at\": 1696772969,\n",
       "  \"finished_at\": null,\n",
       "  \"fine_tuned_model\": null,\n",
       "  \"organization_id\": \"org-7viRJjzvHzBH6Vg9YbLiLe9C\",\n",
       "  \"result_files\": [],\n",
       "  \"status\": \"validating_files\",\n",
       "  \"validation_file\": \"file-gWz9TPnlN0fMN1WG89GKOxHw\",\n",
       "  \"training_file\": \"file-9HZZAgjeb6BRXEN7PyUVSqWG\",\n",
       "  \"hyperparameters\": {\n",
       "    \"n_epochs\": \"auto\"\n",
       "  },\n",
       "  \"trained_tokens\": null,\n",
       "  \"error\": null\n",
       "}"
      ]
     },
     "execution_count": 7,
     "metadata": {},
     "output_type": "execute_result"
    }
   ],
   "source": [
    "response = openai.FineTuningJob.create(\n",
    "    training_file=train['id'],\n",
    "    validation_file=val['id'],\n",
    "    model='gpt-3.5-turbo'\n",
    ")\n",
    "response"
   ]
  },
  {
   "cell_type": "code",
   "execution_count": 9,
   "id": "54264ec3",
   "metadata": {},
   "outputs": [
    {
     "data": {
      "text/plain": [
       "'ftjob-RAHMrZPxS7THV4A5OwOYgAVw'"
      ]
     },
     "execution_count": 9,
     "metadata": {},
     "output_type": "execute_result"
    }
   ],
   "source": [
    "job_id = response[\"id\"]\n",
    "job_id"
   ]
  },
  {
   "cell_type": "code",
   "execution_count": 16,
   "id": "c69c4fc3",
   "metadata": {},
   "outputs": [
    {
     "name": "stdout",
     "output_type": "stream",
     "text": [
      "{\n",
      "  \"object\": \"fine_tuning.job\",\n",
      "  \"id\": \"ftjob-RAHMrZPxS7THV4A5OwOYgAVw\",\n",
      "  \"model\": \"gpt-3.5-turbo-0613\",\n",
      "  \"created_at\": 1696772969,\n",
      "  \"finished_at\": 1696773347,\n",
      "  \"fine_tuned_model\": \"ft:gpt-3.5-turbo-0613:personal::87OY0skz\",\n",
      "  \"organization_id\": \"org-7viRJjzvHzBH6Vg9YbLiLe9C\",\n",
      "  \"result_files\": [\n",
      "    \"file-H0FkrvJhI3RTxGHoqvSsfE3V\"\n",
      "  ],\n",
      "  \"status\": \"succeeded\",\n",
      "  \"validation_file\": \"file-gWz9TPnlN0fMN1WG89GKOxHw\",\n",
      "  \"training_file\": \"file-9HZZAgjeb6BRXEN7PyUVSqWG\",\n",
      "  \"hyperparameters\": {\n",
      "    \"n_epochs\": 4\n",
      "  },\n",
      "  \"trained_tokens\": 4048,\n",
      "  \"error\": null\n",
      "}\n"
     ]
    }
   ],
   "source": [
    "resp = openai.FineTuningJob.retrieve(job_id)\n",
    "print(resp)"
   ]
  },
  {
   "cell_type": "code",
   "execution_count": 17,
   "id": "8114970f",
   "metadata": {},
   "outputs": [
    {
     "name": "stdout",
     "output_type": "stream",
     "text": [
      "{\n",
      "  \"object\": \"list\",\n",
      "  \"data\": [\n",
      "    {\n",
      "      \"object\": \"fine_tuning.job.event\",\n",
      "      \"id\": \"ftevent-Iq1w1K4CuYmhJqIZeCE1n15b\",\n",
      "      \"created_at\": 1696773351,\n",
      "      \"level\": \"info\",\n",
      "      \"message\": \"The job has successfully completed\",\n",
      "      \"data\": {},\n",
      "      \"type\": \"message\"\n",
      "    },\n",
      "    {\n",
      "      \"object\": \"fine_tuning.job.event\",\n",
      "      \"id\": \"ftevent-RSEC2IaPfikcEkFX9GWOqQ1r\",\n",
      "      \"created_at\": 1696773349,\n",
      "      \"level\": \"info\",\n",
      "      \"message\": \"New fine-tuned model created: ft:gpt-3.5-turbo-0613:personal::87OY0skz\",\n",
      "      \"data\": {},\n",
      "      \"type\": \"message\"\n",
      "    },\n",
      "    {\n",
      "      \"object\": \"fine_tuning.job.event\",\n",
      "      \"id\": \"ftevent-9qRSlEOXcXlvCyZ3Pjgjj132\",\n",
      "      \"created_at\": 1696773327,\n",
      "      \"level\": \"info\",\n",
      "      \"message\": \"Step 91/100: training loss=0.36, validation loss=0.14\",\n",
      "      \"data\": {\n",
      "        \"step\": 91,\n",
      "        \"train_loss\": 0.3607913553714752,\n",
      "        \"valid_loss\": 0.1406932830810547,\n",
      "        \"train_mean_token_accuracy\": 0.9166666865348816,\n",
      "        \"valid_mean_token_accuracy\": 0.7\n",
      "      },\n",
      "      \"type\": \"metrics\"\n",
      "    },\n",
      "    {\n",
      "      \"object\": \"fine_tuning.job.event\",\n",
      "      \"id\": \"ftevent-kta6LRZ6s5HUQINFND2Y8knr\",\n",
      "      \"created_at\": 1696773307,\n",
      "      \"level\": \"info\",\n",
      "      \"message\": \"Step 81/100: training loss=0.00, validation loss=0.18\",\n",
      "      \"data\": {\n",
      "        \"step\": 81,\n",
      "        \"train_loss\": 0.0004337855789344758,\n",
      "        \"valid_loss\": 0.17983367226340555,\n",
      "        \"train_mean_token_accuracy\": 1.0,\n",
      "        \"valid_mean_token_accuracy\": 0.8181818181818182\n",
      "      },\n",
      "      \"type\": \"metrics\"\n",
      "    },\n",
      "    {\n",
      "      \"object\": \"fine_tuning.job.event\",\n",
      "      \"id\": \"ftevent-5WdHIecDZ2IIbp5LkJgdANpL\",\n",
      "      \"created_at\": 1696773289,\n",
      "      \"level\": \"info\",\n",
      "      \"message\": \"Step 71/100: training loss=0.11, validation loss=0.00\",\n",
      "      \"data\": {\n",
      "        \"step\": 71,\n",
      "        \"train_loss\": 0.11252056807279587,\n",
      "        \"valid_loss\": 0.00046753883361816406,\n",
      "        \"train_mean_token_accuracy\": 1.0,\n",
      "        \"valid_mean_token_accuracy\": 0.375\n",
      "      },\n",
      "      \"type\": \"metrics\"\n",
      "    },\n",
      "    {\n",
      "      \"object\": \"fine_tuning.job.event\",\n",
      "      \"id\": \"ftevent-6TJg1qK6Bz0j8zUiPk6H9Szw\",\n",
      "      \"created_at\": 1696773271,\n",
      "      \"level\": \"info\",\n",
      "      \"message\": \"Step 61/100: training loss=0.32, validation loss=2.06\",\n",
      "      \"data\": {\n",
      "        \"step\": 61,\n",
      "        \"train_loss\": 0.3165097236633301,\n",
      "        \"valid_loss\": 2.0637006123860675,\n",
      "        \"train_mean_token_accuracy\": 0.9166666865348816,\n",
      "        \"valid_mean_token_accuracy\": 0.5333333333333333\n",
      "      },\n",
      "      \"type\": \"metrics\"\n",
      "    },\n",
      "    {\n",
      "      \"object\": \"fine_tuning.job.event\",\n",
      "      \"id\": \"ftevent-UBGojuLxP3B1iHFQF8Y40EB0\",\n",
      "      \"created_at\": 1696773253,\n",
      "      \"level\": \"info\",\n",
      "      \"message\": \"Step 51/100: training loss=0.10, validation loss=0.21\",\n",
      "      \"data\": {\n",
      "        \"step\": 51,\n",
      "        \"train_loss\": 0.09530893713235855,\n",
      "        \"valid_loss\": 0.21144078572591146,\n",
      "        \"train_mean_token_accuracy\": 1.0,\n",
      "        \"valid_mean_token_accuracy\": 0.6666666666666666\n",
      "      },\n",
      "      \"type\": \"metrics\"\n",
      "    },\n",
      "    {\n",
      "      \"object\": \"fine_tuning.job.event\",\n",
      "      \"id\": \"ftevent-ewzf2mLGQyD9gEL0PcmRljUx\",\n",
      "      \"created_at\": 1696773235,\n",
      "      \"level\": \"info\",\n",
      "      \"message\": \"Step 41/100: training loss=0.08, validation loss=0.16\",\n",
      "      \"data\": {\n",
      "        \"step\": 41,\n",
      "        \"train_loss\": 0.08296604454517365,\n",
      "        \"valid_loss\": 0.15634473164876303,\n",
      "        \"train_mean_token_accuracy\": 1.0,\n",
      "        \"valid_mean_token_accuracy\": 0.6\n",
      "      },\n",
      "      \"type\": \"metrics\"\n",
      "    },\n",
      "    {\n",
      "      \"object\": \"fine_tuning.job.event\",\n",
      "      \"id\": \"ftevent-0linDaAWeQAgoo5eVLMLGkU5\",\n",
      "      \"created_at\": 1696773214,\n",
      "      \"level\": \"info\",\n",
      "      \"message\": \"Step 31/100: training loss=0.00, validation loss=0.23\",\n",
      "      \"data\": {\n",
      "        \"step\": 31,\n",
      "        \"train_loss\": 0.0013858249876648188,\n",
      "        \"valid_loss\": 0.2342194148472377,\n",
      "        \"train_mean_token_accuracy\": 1.0,\n",
      "        \"valid_mean_token_accuracy\": 0.42857142857142855\n",
      "      },\n",
      "      \"type\": \"metrics\"\n",
      "    },\n",
      "    {\n",
      "      \"object\": \"fine_tuning.job.event\",\n",
      "      \"id\": \"ftevent-iLdqLUwFJ6HkeovB6z6b15Az\",\n",
      "      \"created_at\": 1696773196,\n",
      "      \"level\": \"info\",\n",
      "      \"message\": \"Step 21/100: training loss=0.39, validation loss=0.21\",\n",
      "      \"data\": {\n",
      "        \"step\": 21,\n",
      "        \"train_loss\": 0.39434370398521423,\n",
      "        \"valid_loss\": 0.2059115171432495,\n",
      "        \"train_mean_token_accuracy\": 0.8888888955116272,\n",
      "        \"valid_mean_token_accuracy\": 0.6875\n",
      "      },\n",
      "      \"type\": \"metrics\"\n",
      "    }\n",
      "  ],\n",
      "  \"has_more\": true\n",
      "}\n"
     ]
    }
   ],
   "source": [
    "resp = openai.FineTuningJob.list_events(id=job_id,limit=10)\n",
    "print(resp)"
   ]
  },
  {
   "cell_type": "code",
   "execution_count": 18,
   "id": "5d63c286",
   "metadata": {},
   "outputs": [
    {
     "name": "stdout",
     "output_type": "stream",
     "text": [
      "Step 21/100: training loss=0.39, validation loss=0.21\n",
      "Step 31/100: training loss=0.00, validation loss=0.23\n",
      "Step 41/100: training loss=0.08, validation loss=0.16\n",
      "Step 51/100: training loss=0.10, validation loss=0.21\n",
      "Step 61/100: training loss=0.32, validation loss=2.06\n",
      "Step 71/100: training loss=0.11, validation loss=0.00\n",
      "Step 81/100: training loss=0.00, validation loss=0.18\n",
      "Step 91/100: training loss=0.36, validation loss=0.14\n",
      "New fine-tuned model created: ft:gpt-3.5-turbo-0613:personal::87OY0skz\n",
      "The job has successfully completed\n"
     ]
    }
   ],
   "source": [
    "events = resp['data']\n",
    "events.reverse()\n",
    "for event in events:\n",
    "    print(event['message'])"
   ]
  },
  {
   "cell_type": "code",
   "execution_count": 19,
   "id": "0ffa2e09",
   "metadata": {},
   "outputs": [],
   "source": [
    "completion = openai.ChatCompletion.create(\n",
    "    model='gpt-3.5-turbo',\n",
    "    messages=[\n",
    "        {'role':'system','content':'You are a smart assistant that reply with Latin proverbs'},\n",
    "        {'role': 'user','content': 'What is friendship?'}\n",
    "    ]\n",
    ")"
   ]
  },
  {
   "cell_type": "code",
   "execution_count": 20,
   "id": "0993085f",
   "metadata": {},
   "outputs": [
    {
     "data": {
      "text/plain": [
       "<OpenAIObject at 0x1056d4cc0> JSON: {\n",
       "  \"role\": \"assistant\",\n",
       "  \"content\": \"Amicitia est virtus et vitium non deserens. (Friendship is a virtue that never abandons vice.)\"\n",
       "}"
      ]
     },
     "execution_count": 20,
     "metadata": {},
     "output_type": "execute_result"
    }
   ],
   "source": [
    "completion.choices[0].message"
   ]
  },
  {
   "cell_type": "code",
   "execution_count": 22,
   "id": "7e4341a9",
   "metadata": {},
   "outputs": [],
   "source": [
    "completion = openai.ChatCompletion.create(\n",
    "    model='ft:gpt-3.5-turbo-0613:personal::87OY0skz',\n",
    "    messages=[\n",
    "        {'role':'system','content':'You are a smart assistant that reply with Latin proverbs'},\n",
    "        {'role': 'user','content': 'What is friendship?'}\n",
    "    ]\n",
    ")"
   ]
  },
  {
   "cell_type": "code",
   "execution_count": 23,
   "id": "ad6b9603",
   "metadata": {},
   "outputs": [
    {
     "data": {
      "text/plain": [
       "<OpenAIObject at 0x1056ecd60> JSON: {\n",
       "  \"role\": \"assistant\",\n",
       "  \"content\": \"Amicus certus in re incerta cernitur.\"\n",
       "}"
      ]
     },
     "execution_count": 23,
     "metadata": {},
     "output_type": "execute_result"
    }
   ],
   "source": [
    "completion.choices[0].message"
   ]
  },
  {
   "cell_type": "code",
   "execution_count": null,
   "id": "451b4be2",
   "metadata": {},
   "outputs": [],
   "source": []
  }
 ],
 "metadata": {
  "kernelspec": {
   "display_name": "Python 3 (ipykernel)",
   "language": "python",
   "name": "python3"
  },
  "language_info": {
   "codemirror_mode": {
    "name": "ipython",
    "version": 3
   },
   "file_extension": ".py",
   "mimetype": "text/x-python",
   "name": "python",
   "nbconvert_exporter": "python",
   "pygments_lexer": "ipython3",
   "version": "3.10.9"
  }
 },
 "nbformat": 4,
 "nbformat_minor": 5
}
