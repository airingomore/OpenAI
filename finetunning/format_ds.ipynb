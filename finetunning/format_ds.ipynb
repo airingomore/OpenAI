{
 "cells": [
  {
   "cell_type": "code",
   "execution_count": 42,
   "id": "3c67cfab",
   "metadata": {},
   "outputs": [],
   "source": [
    "import json\n",
    "\n",
    "data = []\n",
    "\n",
    "with open(\"proverbs.jsonl\",\"r\",encoding='utf-8') as file:\n",
    "    for line in file:\n",
    "        if line.strip():\n",
    "            #print(line)\n",
    "            data.append(json.loads(line))\n",
    "            \n",
    "ds_formatted = [\n",
    "    {\"messages\":[\n",
    "        {\"role\":\"system\",\"content\":\"You are a smart assistant that replies with latin proverbs.\"},\n",
    "        {\"role\":\"user\", 'content':x[\"question\"]},\n",
    "        {\"role\":\"assistant\",'content':x[\"answer\"]}\n",
    "    ]} for x in data\n",
    "]\n",
    "\n",
    "#for line in ds_formatted:\n",
    "    #print(line)\n",
    "    \n",
    "ds_train = ds_formatted[:25]\n",
    "ds_eval = ds_formatted[25:50]\n",
    "\n",
    "with open('train.jsonl','w') as f:\n",
    "    for line in ds_train:\n",
    "        json.dump(line,f)\n",
    "        f.write('\\n')\n",
    "    \n",
    "with open('eval.jsonl','w') as f:\n",
    "    for line in ds_eval:\n",
    "        json.dump(line,f)\n",
    "        f.write('\\n')"
   ]
  },
  {
   "cell_type": "code",
   "execution_count": null,
   "id": "c6bf01c6",
   "metadata": {},
   "outputs": [],
   "source": []
  },
  {
   "cell_type": "code",
   "execution_count": null,
   "id": "e9131fd7",
   "metadata": {},
   "outputs": [],
   "source": []
  },
  {
   "cell_type": "code",
   "execution_count": null,
   "id": "a4dccbfa",
   "metadata": {},
   "outputs": [],
   "source": []
  }
 ],
 "metadata": {
  "kernelspec": {
   "display_name": "Python 3 (ipykernel)",
   "language": "python",
   "name": "python3"
  },
  "language_info": {
   "codemirror_mode": {
    "name": "ipython",
    "version": 3
   },
   "file_extension": ".py",
   "mimetype": "text/x-python",
   "name": "python",
   "nbconvert_exporter": "python",
   "pygments_lexer": "ipython3",
   "version": "3.10.9"
  }
 },
 "nbformat": 4,
 "nbformat_minor": 5
}
