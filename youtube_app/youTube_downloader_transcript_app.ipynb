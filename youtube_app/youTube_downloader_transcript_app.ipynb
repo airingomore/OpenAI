{
 "cells": [
  {
   "cell_type": "code",
   "execution_count": 1,
   "id": "88b91449",
   "metadata": {},
   "outputs": [],
   "source": [
    "#!pip -q install pytube"
   ]
  },
  {
   "cell_type": "code",
   "execution_count": 2,
   "id": "70612603",
   "metadata": {},
   "outputs": [],
   "source": [
    "import openai\n",
    "from dotenv import dotenv_values\n",
    "config = dotenv_values(\".env\")\n",
    "openai.api_key = config['OPEN_API_KEY']\n",
    "assert openai.api_key.startswith('sk-'), 'Error loading the API key. The API key should start with \"sk-\"\"'\n"
   ]
  },
  {
   "cell_type": "code",
   "execution_count": 3,
   "id": "8e6a7838",
   "metadata": {},
   "outputs": [],
   "source": [
    "from pytube import YouTube\n",
    "import os"
   ]
  },
  {
   "cell_type": "code",
   "execution_count": 4,
   "id": "72480b2e",
   "metadata": {},
   "outputs": [
    {
     "name": "stdout",
     "output_type": "stream",
     "text": [
      "Error when creating the Youtube instance :'NoneType' object has no attribute 'span'\n"
     ]
    }
   ],
   "source": [
    "link = 'https://www.youtube.com/watch?v=NVxaP-qEagQ'\n",
    "try:\n",
    "    yt = YouTube(link)\n",
    "    print(yt.streams)\n",
    "\n",
    "    print(f'Title: {yt.title}')\n",
    "    print(f'Number of views: {yt.views}')\n",
    "    print(f'Length of the vide: {yt.length}')\n",
    "    print(f'Rating of the video: {yt.rating}')\n",
    "    print(f'thumbnail: {yt.thumbnail_url}')\n",
    "except Exception as e:\n",
    "    print(f'Error when creating the Youtube instance :{e}')"
   ]
  },
  {
   "cell_type": "code",
   "execution_count": null,
   "id": "d910363b",
   "metadata": {},
   "outputs": [],
   "source": [
    "s = yt.streams.get_highest_resolution()\n",
    "print('Downloading...')\n",
    "ys.download()\n",
    "print('Download completed!')"
   ]
  }
 ],
 "metadata": {
  "kernelspec": {
   "display_name": "Python 3 (ipykernel)",
   "language": "python",
   "name": "python3"
  },
  "language_info": {
   "codemirror_mode": {
    "name": "ipython",
    "version": 3
   },
   "file_extension": ".py",
   "mimetype": "text/x-python",
   "name": "python",
   "nbconvert_exporter": "python",
   "pygments_lexer": "ipython3",
   "version": "3.10.9"
  }
 },
 "nbformat": 4,
 "nbformat_minor": 5
}
