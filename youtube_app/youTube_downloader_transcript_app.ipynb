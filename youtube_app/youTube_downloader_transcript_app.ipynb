{
 "cells": [
  {
   "cell_type": "code",
   "execution_count": 2,
   "id": "6978f7ad",
   "metadata": {},
   "outputs": [],
   "source": [
    "!pip -q install pytube"
   ]
  },
  {
   "cell_type": "code",
   "execution_count": 3,
   "id": "a602a4b4",
   "metadata": {},
   "outputs": [],
   "source": [
    "import openai\n",
    "from dotenv import dotenv_values\n",
    "config = dotenv_values(\".env\")\n",
    "openai.api_key = config['OPEN_API_KEY']\n",
    "assert openai.api_key.startswith('sk-'), 'Error loading the API key. The API key should start with \"sk-\"\"'\n"
   ]
  },
  {
   "cell_type": "code",
   "execution_count": 4,
   "id": "b46faf56",
   "metadata": {},
   "outputs": [],
   "source": [
    "from pytube import YouTube\n",
    "import os"
   ]
  },
  {
   "cell_type": "code",
   "execution_count": 5,
   "id": "25d4099f",
   "metadata": {},
   "outputs": [
    {
     "name": "stdout",
     "output_type": "stream",
     "text": [
      "[<Stream: itag=\"17\" mime_type=\"video/3gpp\" res=\"144p\" fps=\"7fps\" vcodec=\"mp4v.20.3\" acodec=\"mp4a.40.2\" progressive=\"True\" type=\"video\">, <Stream: itag=\"18\" mime_type=\"video/mp4\" res=\"360p\" fps=\"30fps\" vcodec=\"avc1.42001E\" acodec=\"mp4a.40.2\" progressive=\"True\" type=\"video\">, <Stream: itag=\"22\" mime_type=\"video/mp4\" res=\"720p\" fps=\"30fps\" vcodec=\"avc1.64001F\" acodec=\"mp4a.40.2\" progressive=\"True\" type=\"video\">, <Stream: itag=\"313\" mime_type=\"video/webm\" res=\"2160p\" fps=\"30fps\" vcodec=\"vp9\" progressive=\"False\" type=\"video\">, <Stream: itag=\"271\" mime_type=\"video/webm\" res=\"1440p\" fps=\"30fps\" vcodec=\"vp9\" progressive=\"False\" type=\"video\">, <Stream: itag=\"137\" mime_type=\"video/mp4\" res=\"1080p\" fps=\"30fps\" vcodec=\"avc1.640028\" progressive=\"False\" type=\"video\">, <Stream: itag=\"248\" mime_type=\"video/webm\" res=\"1080p\" fps=\"30fps\" vcodec=\"vp9\" progressive=\"False\" type=\"video\">, <Stream: itag=\"136\" mime_type=\"video/mp4\" res=\"720p\" fps=\"30fps\" vcodec=\"avc1.64001f\" progressive=\"False\" type=\"video\">, <Stream: itag=\"247\" mime_type=\"video/webm\" res=\"720p\" fps=\"30fps\" vcodec=\"vp9\" progressive=\"False\" type=\"video\">, <Stream: itag=\"135\" mime_type=\"video/mp4\" res=\"480p\" fps=\"30fps\" vcodec=\"avc1.4d401f\" progressive=\"False\" type=\"video\">, <Stream: itag=\"244\" mime_type=\"video/webm\" res=\"480p\" fps=\"30fps\" vcodec=\"vp9\" progressive=\"False\" type=\"video\">, <Stream: itag=\"134\" mime_type=\"video/mp4\" res=\"360p\" fps=\"30fps\" vcodec=\"avc1.4d401e\" progressive=\"False\" type=\"video\">, <Stream: itag=\"243\" mime_type=\"video/webm\" res=\"360p\" fps=\"30fps\" vcodec=\"vp9\" progressive=\"False\" type=\"video\">, <Stream: itag=\"133\" mime_type=\"video/mp4\" res=\"240p\" fps=\"30fps\" vcodec=\"avc1.4d4015\" progressive=\"False\" type=\"video\">, <Stream: itag=\"242\" mime_type=\"video/webm\" res=\"240p\" fps=\"30fps\" vcodec=\"vp9\" progressive=\"False\" type=\"video\">, <Stream: itag=\"160\" mime_type=\"video/mp4\" res=\"144p\" fps=\"30fps\" vcodec=\"avc1.4d400c\" progressive=\"False\" type=\"video\">, <Stream: itag=\"278\" mime_type=\"video/webm\" res=\"144p\" fps=\"30fps\" vcodec=\"vp9\" progressive=\"False\" type=\"video\">, <Stream: itag=\"139\" mime_type=\"audio/mp4\" abr=\"48kbps\" acodec=\"mp4a.40.5\" progressive=\"False\" type=\"audio\">, <Stream: itag=\"140\" mime_type=\"audio/mp4\" abr=\"128kbps\" acodec=\"mp4a.40.2\" progressive=\"False\" type=\"audio\">, <Stream: itag=\"249\" mime_type=\"audio/webm\" abr=\"50kbps\" acodec=\"opus\" progressive=\"False\" type=\"audio\">, <Stream: itag=\"250\" mime_type=\"audio/webm\" abr=\"70kbps\" acodec=\"opus\" progressive=\"False\" type=\"audio\">, <Stream: itag=\"251\" mime_type=\"audio/webm\" abr=\"160kbps\" acodec=\"opus\" progressive=\"False\" type=\"audio\">]\n",
      "Title: Meditation & Searching for The Self | Dr. Sam Harris & Dr. Andrew Huberman\n",
      "Number of views: 24963\n",
      "Length of the vide: 558\n",
      "Rating of the video: None\n",
      "thumbnail: https://i.ytimg.com/vi/NVxaP-qEagQ/sddefault.jpg\n"
     ]
    }
   ],
   "source": [
    "link = 'https://www.youtube.com/watch?v=NVxaP-qEagQ'\n",
    "try:\n",
    "    yt = YouTube(link)\n",
    "    print(yt.streams)\n",
    "\n",
    "    print(f'Title: {yt.title}')\n",
    "    print(f'Number of views: {yt.views}')\n",
    "    print(f'Length of the vide: {yt.length}')\n",
    "    print(f'Rating of the video: {yt.rating}')\n",
    "    print(f'thumbnail: {yt.thumbnail_url}')\n",
    "except Exception as e:\n",
    "    print(f'Error when creating the Youtube instance :{e}')"
   ]
  },
  {
   "cell_type": "code",
   "execution_count": 6,
   "id": "67b3f046",
   "metadata": {},
   "outputs": [
    {
     "name": "stdout",
     "output_type": "stream",
     "text": [
      "Downloading...\n",
      "Download completed!\n"
     ]
    }
   ],
   "source": [
    "ys = yt.streams.get_highest_resolution()\n",
    "print('Downloading...')\n",
    "ys.download()\n",
    "print('Download completed!')"
   ]
  },
  {
   "cell_type": "code",
   "execution_count": 9,
   "id": "4005b5a4",
   "metadata": {},
   "outputs": [
    {
     "name": "stdout",
     "output_type": "stream",
     "text": [
      "Downloading the audio stream...\n",
      "Done!\n"
     ]
    }
   ],
   "source": [
    "audio = yt.streams.filter(only_audio=True).first()\n",
    "print('Downloading the audio stream...')\n",
    "# download it in the current directory\n",
    "output_file = audio.download()\n",
    "# download it in parent directory\n",
    "#output_file = audio.download(output_path='..')\n",
    "print('Done!')"
   ]
  },
  {
   "cell_type": "code",
   "execution_count": 13,
   "id": "acebf867",
   "metadata": {},
   "outputs": [
    {
     "name": "stdout",
     "output_type": "stream",
     "text": [
      "Meditation & Searching for The Self  Dr Sam Harris & Dr Andrew Huberman.mp4\n",
      "Name: Meditation & Searching for The Self  Dr Sam Harris & Dr Andrew Huberman \n",
      "Extension: .mp4\n",
      "Reanming Meditation & Searching for The Self  Dr Sam Harris & Dr Andrew Huberman.mp4 to Meditation-&-Searching-for-The-Self-Dr-Sam-Harris-&-Dr-Andrew-Huberman.mp3\n"
     ]
    }
   ],
   "source": [
    "basename = os.path.basename(output_file)\n",
    "#print(basename)\n",
    "name, extension = os.path.splitext(basename)\n",
    "#print(f'Name: {name} \\nExtension: {extension}')\n",
    "audio_file = f'{name}.mp3'\n",
    "\n",
    "import re\n",
    "#replace white spaces (\\s+) with -\n",
    "audio_file = re.sub('\\s+','-',audio_file)\n",
    "#print(audio_file)\n",
    "\n",
    "print(f'Reanming {basename} to {audio_file}')\n",
    "os.rename(basename,audio_file)"
   ]
  },
  {
   "cell_type": "code",
   "execution_count": 18,
   "id": "71cf44c6",
   "metadata": {},
   "outputs": [],
   "source": [
    "def youtube_audio_downloader(link):\n",
    "    from pytube import YouTube\n",
    "    import os\n",
    "    import re\n",
    "    \n",
    "    if 'youtube.com' not in link:\n",
    "        print('Invalid Youtube link!')\n",
    "        return false\n",
    "    \n",
    "    audio = yt.streams.filter(only_audio=True).first()\n",
    "    print('Downloading the audio stream...', end='')\n",
    "    output_file = audio.download()\n",
    "    if os.path.exists(output_file):\n",
    "        print('Done!')\n",
    "    else:\n",
    "        print('Error downloading rhe audio file')\n",
    "        return false\n",
    "    \n",
    "    basename = os.path.basename(output_file)\n",
    "    name, extension = os.path.splitext(basename)\n",
    "    audio_file = f'{name}.mp3'\n",
    "    audio_file = re.sub('\\s+','-',audio_file)\n",
    "    os.rename(basename,audio_file)\n",
    "    return audio_file\n",
    "    "
   ]
  },
  {
   "cell_type": "code",
   "execution_count": 20,
   "id": "1dc277ea",
   "metadata": {},
   "outputs": [
    {
     "name": "stdout",
     "output_type": "stream",
     "text": [
      "Downloading the audio stream...Done!\n",
      "Meditation-&-Searching-for-The-Self-Dr-Sam-Harris-&-Dr-Andrew-Huberman.mp3\n"
     ]
    }
   ],
   "source": [
    "mp3_file = youtube_audio_downloader('https://www.youtube.com/watch?v=dDaKhCTrMus')\n",
    "print(mp3_file)"
   ]
  },
  {
   "cell_type": "code",
   "execution_count": null,
   "id": "35e35652",
   "metadata": {},
   "outputs": [],
   "source": [
    "def transcribe(audio_file)\n",
    "    if not os.path.exists(audio_file):\n",
    "        print('Audio file does not exist!')\n",
    "        return false\n",
    "    \n",
    "    with open(audio_file, 'rb') as f:\n",
    "        print('Starting transcribing...', end='')\n",
    "        transcript = openai.Audio.transcribe('whisper-1',f)\n",
    "        print('Done!')\n",
    "        \n",
    "        name, extension = os.path.splitext(audio_file)\n",
    "        transcript_filename = f'transcript-{name}.txt'\n",
    "        with open(transcript_filename, 'w') as f\n",
    "            f.write(transcript['text'])\n",
    "        \n",
    "    return transcript_filename\n",
    "\n",
    "transcript_filename = transcribe(mp3_file)"
   ]
  }
 ],
 "metadata": {
  "kernelspec": {
   "display_name": "Python 3 (ipykernel)",
   "language": "python",
   "name": "python3"
  },
  "language_info": {
   "codemirror_mode": {
    "name": "ipython",
    "version": 3
   },
   "file_extension": ".py",
   "mimetype": "text/x-python",
   "name": "python",
   "nbconvert_exporter": "python",
   "pygments_lexer": "ipython3",
   "version": "3.10.9"
  }
 },
 "nbformat": 4,
 "nbformat_minor": 5
}
