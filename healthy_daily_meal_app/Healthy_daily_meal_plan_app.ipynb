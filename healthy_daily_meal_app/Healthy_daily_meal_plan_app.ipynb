{
 "cells": [
  {
   "cell_type": "code",
   "execution_count": 1,
   "id": "2fb27137",
   "metadata": {},
   "outputs": [],
   "source": [
    "import openai\n",
    "from dotenv import dotenv_values\n",
    "config = dotenv_values(\".env\")\n",
    "openai.api_key = config['OPEN_API_KEY']\n",
    "assert openai.api_key.startswith('sk-'), 'Error loading the API key. The API key should start with \"sk-\"\"'"
   ]
  },
  {
   "cell_type": "code",
   "execution_count": 4,
   "id": "83724581",
   "metadata": {},
   "outputs": [
    {
     "name": "stdout",
     "output_type": "stream",
     "text": [
      "Breakfast: Broccoli and Egg Scramble\n",
      "Ingredients:\n",
      "- 1 cup chopped broccoli\n",
      "- 2 eggs\n",
      "- 1 tablespoon olive oil\n",
      "\n",
      "Instructions:\n",
      "1. Heat olive oil in a non-stick pan over medium heat.\n",
      "2. Add the chopped broccoli and sauté for 2-3 minutes until slightly tender.\n",
      "3. In a separate bowl, beat the eggs.\n",
      "4. Pour the beaten eggs over the broccoli in the pan.\n",
      "5. Stir gently until the eggs are cooked to your desired consistency.\n",
      "6. Season with salt and pepper if desired.\n",
      "7. Serve hot.\n",
      "\n",
      "Title: Broccoli and Egg Scramble\n",
      "\n",
      "Lunch: Chicken and Vegetable Stir-Fry\n",
      "Ingredients:\n",
      "- 4 oz chicken breast, sliced\n",
      "- 1 cup mixed vegetables (such as bell peppers, carrots, and snap peas), sliced\n",
      "- 1 tablespoon olive oil\n",
      "- Salt and pepper to taste\n",
      "\n",
      "Instructions:\n",
      "1. Heat olive oil in a large skillet or wok over medium-high heat.\n",
      "2. Add the sliced chicken and cook until it is no longer pink, about 5-6 minutes.\n",
      "3. Add the mixed vegetables to the skillet and stir-fry for an additional 3-4 minutes until they are tender-crisp.\n",
      "4. Season with salt and pepper to taste.\n",
      "5. Serve hot.\n",
      "\n",
      "Title: Chicken and Vegetable Stir-Fry\n",
      "\n",
      "Dinner: Baked Fish with Roasted Cabbage\n",
      "Ingredients:\n",
      "- 4 oz fish fillet (such as salmon or cod)\n",
      "- 1 cup cabbage, sliced\n",
      "- 1 tablespoon olive oil\n",
      "- Salt and pepper to taste\n",
      "\n",
      "Instructions:\n",
      "1. Preheat the oven to 400°F (200°C).\n",
      "2. Place the fish fillet in a baking dish and season with salt and pepper.\n",
      "3. Drizzle olive oil over the fish.\n",
      "4. In a separate baking dish, toss the sliced cabbage with olive oil, salt, and pepper.\n",
      "5. Place both the fish and cabbage in the oven and bake for 15-20 minutes, or until the fish is cooked through and the cabbage is slightly crispy.\n",
      "6. Serve hot.\n",
      "\n",
      "Title: Baked Fish with Roasted Cabbage\n",
      "\n",
      "Titles:\n",
      "- Broccoli and Egg Scramble\n",
      "- Chicken and Vegetable Stir-Fry\n",
      "- Baked Fish with Roasted Cabbage\n"
     ]
    }
   ],
   "source": [
    "def create_meals(ingredients, kcal=200):\n",
    "    prompt = f'''Create a healthy daily meal plan for breakfast, lunch and dinner based on the following\n",
    "    ingredients {ingredients}.\n",
    "    Explain each recipe.\n",
    "    The total daily intake of kcal should be below {kcal}.\n",
    "    Assign a suggestive and concise title to each meal.\n",
    "    Your answer should end with 'Titles: ' and the title of each recipe.\n",
    "    \n",
    "    '''\n",
    "    # print(prompt)\n",
    "    messages = [\n",
    "        {'role':'system', 'content': 'You are a talented cook'},\n",
    "        {'role':'user', 'content':prompt}\n",
    "    ]\n",
    "    \n",
    "    response = openai.ChatCompletion.create(\n",
    "        model='gpt-3.5-turbo',\n",
    "        messages=messages,\n",
    "        temperature=1,\n",
    "        max_tokens=1024,\n",
    "        n=1\n",
    "    )\n",
    "    \n",
    "    return response['choices'][0].message.content\n",
    "foods = 'broccoli, chicken, fish, vegetables, cabbage, eggs, olive oil'\n",
    "output = create_meals(foods)\n",
    "print(output)"
   ]
  },
  {
   "cell_type": "code",
   "execution_count": null,
   "id": "c23af2b1",
   "metadata": {},
   "outputs": [],
   "source": []
  }
 ],
 "metadata": {
  "kernelspec": {
   "display_name": "Python 3 (ipykernel)",
   "language": "python",
   "name": "python3"
  },
  "language_info": {
   "codemirror_mode": {
    "name": "ipython",
    "version": 3
   },
   "file_extension": ".py",
   "mimetype": "text/x-python",
   "name": "python",
   "nbconvert_exporter": "python",
   "pygments_lexer": "ipython3",
   "version": "3.10.9"
  }
 },
 "nbformat": 4,
 "nbformat_minor": 5
}
